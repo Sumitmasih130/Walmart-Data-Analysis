{
 "cells": [
  {
   "cell_type": "markdown",
   "id": "d304a9a4",
   "metadata": {},
   "source": [
    "# Walmart Sales Analysis:"
   ]
  },
  {
   "cell_type": "markdown",
   "id": "57e8d1c3",
   "metadata": {},
   "source": [
    "# A. Analyze the performance of sales and revenue at the city and branch level"
   ]
  },
  {
   "cell_type": "code",
   "execution_count": 3,
   "id": "d3a6ed7e",
   "metadata": {},
   "outputs": [],
   "source": [
    "# Importing libraries for data manipulation and analysis\n",
    "import pandas as pd\n",
    "import numpy as np\n",
    "import seaborn as sns\n",
    "import matplotlib.pyplot as plt"
   ]
  },
  {
   "cell_type": "code",
   "execution_count": 4,
   "id": "e6276263",
   "metadata": {},
   "outputs": [],
   "source": [
    "# URL of the Excel file\n",
    "url= 'WalmartSales.xlsx'\n",
    "# Read the Excel file into a pandas DataFrame\n",
    "walmart = pd.read_excel(url)"
   ]
  },
  {
   "cell_type": "code",
   "execution_count": 35,
   "id": "60bd264d",
   "metadata": {},
   "outputs": [
    {
     "data": {
      "text/html": [
       "<div>\n",
       "<style scoped>\n",
       "    .dataframe tbody tr th:only-of-type {\n",
       "        vertical-align: middle;\n",
       "    }\n",
       "\n",
       "    .dataframe tbody tr th {\n",
       "        vertical-align: top;\n",
       "    }\n",
       "\n",
       "    .dataframe thead th {\n",
       "        text-align: right;\n",
       "    }\n",
       "</style>\n",
       "<table border=\"1\" class=\"dataframe\">\n",
       "  <thead>\n",
       "    <tr style=\"text-align: right;\">\n",
       "      <th></th>\n",
       "      <th>Invoice ID</th>\n",
       "      <th>Branch</th>\n",
       "      <th>City</th>\n",
       "      <th>Customer type</th>\n",
       "      <th>Gender</th>\n",
       "      <th>Product line</th>\n",
       "      <th>Unit price</th>\n",
       "      <th>Quantity</th>\n",
       "      <th>Date</th>\n",
       "      <th>Time</th>\n",
       "      <th>Payment</th>\n",
       "      <th>Rating</th>\n",
       "      <th>Total Revenue</th>\n",
       "      <th>Month</th>\n",
       "    </tr>\n",
       "  </thead>\n",
       "  <tbody>\n",
       "    <tr>\n",
       "      <th>0</th>\n",
       "      <td>750-67-8428</td>\n",
       "      <td>A</td>\n",
       "      <td>Yangon</td>\n",
       "      <td>Member</td>\n",
       "      <td>Female</td>\n",
       "      <td>Health and beauty</td>\n",
       "      <td>74.69</td>\n",
       "      <td>7</td>\n",
       "      <td>2019-01-05</td>\n",
       "      <td>13:08:00</td>\n",
       "      <td>Ewallet</td>\n",
       "      <td>9.1</td>\n",
       "      <td>522.83</td>\n",
       "      <td>January</td>\n",
       "    </tr>\n",
       "    <tr>\n",
       "      <th>1</th>\n",
       "      <td>226-31-3081</td>\n",
       "      <td>A</td>\n",
       "      <td>Naypyitaw</td>\n",
       "      <td>Normal</td>\n",
       "      <td>Female</td>\n",
       "      <td>Electronic accessories</td>\n",
       "      <td>15.28</td>\n",
       "      <td>5</td>\n",
       "      <td>2019-03-08</td>\n",
       "      <td>10:29:00</td>\n",
       "      <td>Cash</td>\n",
       "      <td>9.6</td>\n",
       "      <td>76.40</td>\n",
       "      <td>March</td>\n",
       "    </tr>\n",
       "    <tr>\n",
       "      <th>2</th>\n",
       "      <td>631-41-3108</td>\n",
       "      <td>A</td>\n",
       "      <td>Yangon</td>\n",
       "      <td>Normal</td>\n",
       "      <td>Male</td>\n",
       "      <td>Home and lifestyle</td>\n",
       "      <td>46.33</td>\n",
       "      <td>7</td>\n",
       "      <td>2019-03-03</td>\n",
       "      <td>13:23:00</td>\n",
       "      <td>Credit card</td>\n",
       "      <td>7.4</td>\n",
       "      <td>324.31</td>\n",
       "      <td>March</td>\n",
       "    </tr>\n",
       "    <tr>\n",
       "      <th>3</th>\n",
       "      <td>123-19-1176</td>\n",
       "      <td>B</td>\n",
       "      <td>Yangon</td>\n",
       "      <td>Member</td>\n",
       "      <td>Male</td>\n",
       "      <td>Health and beauty</td>\n",
       "      <td>58.22</td>\n",
       "      <td>8</td>\n",
       "      <td>2019-01-27</td>\n",
       "      <td>20:33:00</td>\n",
       "      <td>Ewallet</td>\n",
       "      <td>8.4</td>\n",
       "      <td>465.76</td>\n",
       "      <td>January</td>\n",
       "    </tr>\n",
       "    <tr>\n",
       "      <th>4</th>\n",
       "      <td>373-73-7910</td>\n",
       "      <td>C</td>\n",
       "      <td>Yangon</td>\n",
       "      <td>Normal</td>\n",
       "      <td>Male</td>\n",
       "      <td>Sports and travel</td>\n",
       "      <td>86.31</td>\n",
       "      <td>7</td>\n",
       "      <td>2019-02-08</td>\n",
       "      <td>10:37:00</td>\n",
       "      <td>Ewallet</td>\n",
       "      <td>5.3</td>\n",
       "      <td>604.17</td>\n",
       "      <td>February</td>\n",
       "    </tr>\n",
       "  </tbody>\n",
       "</table>\n",
       "</div>"
      ],
      "text/plain": [
       "    Invoice ID Branch       City Customer type  Gender  \\\n",
       "0  750-67-8428      A     Yangon        Member  Female   \n",
       "1  226-31-3081      A  Naypyitaw        Normal  Female   \n",
       "2  631-41-3108      A     Yangon        Normal    Male   \n",
       "3  123-19-1176      B     Yangon        Member    Male   \n",
       "4  373-73-7910      C     Yangon        Normal    Male   \n",
       "\n",
       "             Product line  Unit price  Quantity       Date      Time  \\\n",
       "0       Health and beauty       74.69         7 2019-01-05  13:08:00   \n",
       "1  Electronic accessories       15.28         5 2019-03-08  10:29:00   \n",
       "2      Home and lifestyle       46.33         7 2019-03-03  13:23:00   \n",
       "3       Health and beauty       58.22         8 2019-01-27  20:33:00   \n",
       "4       Sports and travel       86.31         7 2019-02-08  10:37:00   \n",
       "\n",
       "       Payment  Rating  Total Revenue     Month  \n",
       "0      Ewallet     9.1         522.83   January  \n",
       "1         Cash     9.6          76.40     March  \n",
       "2  Credit card     7.4         324.31     March  \n",
       "3      Ewallet     8.4         465.76   January  \n",
       "4      Ewallet     5.3         604.17  February  "
      ]
     },
     "execution_count": 35,
     "metadata": {},
     "output_type": "execute_result"
    }
   ],
   "source": [
    "# Display the first few rows of the DataFrame\n",
    "walmart.head()\n",
    "\n"
   ]
  },
  {
   "cell_type": "markdown",
   "id": "ff7f081e",
   "metadata": {},
   "source": [
    "# **CITY WISE SALES**"
   ]
  },
  {
   "cell_type": "code",
   "execution_count": 6,
   "id": "5cdc13e0",
   "metadata": {},
   "outputs": [],
   "source": [
    "# Grouping the Walmart DataFrame by 'City' and calculating the sum of 'Quantity' for each city\n",
    "city_wise_sales = walmart.groupby('City')['Quantity'].sum().reset_index()\n",
    "\n",
    "# Renaming the column representing total sales ('Quantity') to 'Total Sales'\n",
    "city_wise_sales = city_wise_sales.rename(columns={'Quantity': 'Total Sales'})"
   ]
  },
  {
   "cell_type": "code",
   "execution_count": 7,
   "id": "fafb387a",
   "metadata": {},
   "outputs": [
    {
     "data": {
      "text/html": [
       "<div>\n",
       "<style scoped>\n",
       "    .dataframe tbody tr th:only-of-type {\n",
       "        vertical-align: middle;\n",
       "    }\n",
       "\n",
       "    .dataframe tbody tr th {\n",
       "        vertical-align: top;\n",
       "    }\n",
       "\n",
       "    .dataframe thead th {\n",
       "        text-align: right;\n",
       "    }\n",
       "</style>\n",
       "<table border=\"1\" class=\"dataframe\">\n",
       "  <thead>\n",
       "    <tr style=\"text-align: right;\">\n",
       "      <th></th>\n",
       "      <th>City</th>\n",
       "      <th>Total Sales</th>\n",
       "    </tr>\n",
       "  </thead>\n",
       "  <tbody>\n",
       "    <tr>\n",
       "      <th>0</th>\n",
       "      <td>Mandalay</td>\n",
       "      <td>1820</td>\n",
       "    </tr>\n",
       "    <tr>\n",
       "      <th>1</th>\n",
       "      <td>Naypyitaw</td>\n",
       "      <td>1831</td>\n",
       "    </tr>\n",
       "    <tr>\n",
       "      <th>2</th>\n",
       "      <td>Yangon</td>\n",
       "      <td>1859</td>\n",
       "    </tr>\n",
       "  </tbody>\n",
       "</table>\n",
       "</div>"
      ],
      "text/plain": [
       "        City  Total Sales\n",
       "0   Mandalay         1820\n",
       "1  Naypyitaw         1831\n",
       "2     Yangon         1859"
      ]
     },
     "execution_count": 7,
     "metadata": {},
     "output_type": "execute_result"
    }
   ],
   "source": [
    "# Displaying the DataFrame city_wise_sales\n",
    "city_wise_sales"
   ]
  },
  {
   "cell_type": "code",
   "execution_count": 8,
   "id": "9737cf89",
   "metadata": {},
   "outputs": [
    {
     "data": {
      "image/png": "[encoded data removed]",
      "text/plain": [
       "<Figure size 400x500 with 1 Axes>"
      ]
     },
     "metadata": {},
     "output_type": "display_data"
    }
   ],
   "source": [
    "# Creating the bar plot using matplotlib\n",
    "plt.figure(figsize=(4, 5))\n",
    "plt.bar(city_wise_sales['City'], city_wise_sales['Total Sales'])\n",
    "plt.title('City-wise Sales')\n",
    "plt.xlabel('City')\n",
    "plt.ylabel('Total Sales')\n",
    "plt.tight_layout()\n",
    "plt.show()\n"
   ]
  },
  {
   "cell_type": "markdown",
   "id": "e78f6f1a",
   "metadata": {},
   "source": [
    "**Yangon has the highest total sales at 1859 units, followed closely by Naypyitaw at 1831 units, while Mandalay has the lowest total sales at 1820 units.**"
   ]
  },
  {
   "cell_type": "markdown",
   "id": "4bf7c1ed",
   "metadata": {},
   "source": [
    "# **BRANCH WISE SALE**"
   ]
  },
  {
   "cell_type": "code",
   "execution_count": 9,
   "id": "3893ee46",
   "metadata": {},
   "outputs": [],
   "source": [
    "# Grouping the Walmart data by 'Branch' and calculating the total quantity sold in each branch\n",
    "branch_wise_sales = walmart.groupby('Branch')['Quantity'].sum().reset_index()\n",
    "\n",
    "# Renaming the column representing total sales ('Quantity') to 'Total Sales'\n",
    "branch_wise_sales = branch_wise_sales.rename(columns={'Quantity': 'Total Sales'})"
   ]
  },
  {
   "cell_type": "code",
   "execution_count": 10,
   "id": "ad1a3a8a",
   "metadata": {},
   "outputs": [
    {
     "data": {
      "text/html": [
       "<div>\n",
       "<style scoped>\n",
       "    .dataframe tbody tr th:only-of-type {\n",
       "        vertical-align: middle;\n",
       "    }\n",
       "\n",
       "    .dataframe tbody tr th {\n",
       "        vertical-align: top;\n",
       "    }\n",
       "\n",
       "    .dataframe thead th {\n",
       "        text-align: right;\n",
       "    }\n",
       "</style>\n",
       "<table border=\"1\" class=\"dataframe\">\n",
       "  <thead>\n",
       "    <tr style=\"text-align: right;\">\n",
       "      <th></th>\n",
       "      <th>Branch</th>\n",
       "      <th>Total Sales</th>\n",
       "    </tr>\n",
       "  </thead>\n",
       "  <tbody>\n",
       "    <tr>\n",
       "      <th>0</th>\n",
       "      <td>A</td>\n",
       "      <td>1883</td>\n",
       "    </tr>\n",
       "    <tr>\n",
       "      <th>1</th>\n",
       "      <td>B</td>\n",
       "      <td>1899</td>\n",
       "    </tr>\n",
       "    <tr>\n",
       "      <th>2</th>\n",
       "      <td>C</td>\n",
       "      <td>1728</td>\n",
       "    </tr>\n",
       "  </tbody>\n",
       "</table>\n",
       "</div>"
      ],
      "text/plain": [
       "  Branch  Total Sales\n",
       "0      A         1883\n",
       "1      B         1899\n",
       "2      C         1728"
      ]
     },
     "execution_count": 10,
     "metadata": {},
     "output_type": "execute_result"
    }
   ],
   "source": [
    "# Displaying the DataFrame branch_wise_sales\n",
    "branch_wise_sales"
   ]
  },
  {
   "cell_type": "code",
   "execution_count": 11,
   "id": "1cd59a64",
   "metadata": {},
   "outputs": [
    {
     "data": {
      "image/png": "[encoded data removed]",
      "text/plain": [
       "<Figure size 400x500 with 1 Axes>"
      ]
     },
     "metadata": {},
     "output_type": "display_data"
    }
   ],
   "source": [
    "# Creating the bar plot using matplotlib\n",
    "plt.figure(figsize=(4,5))\n",
    "plt.bar(branch_wise_sales['Branch'], branch_wise_sales['Total Sales'])\n",
    "plt.title('Branch-wise Sales')\n",
    "plt.xlabel('Branch')\n",
    "plt.ylabel('Total Sales')\n",
    "plt.tight_layout()\n",
    "plt.show()\n"
   ]
  },
  {
   "cell_type": "markdown",
   "id": "2373f966",
   "metadata": {},
   "source": [
    "**Branch B leads with the highest total sales of 1899 units, followed by branch A with 1883 units. Branch C shows the lowest total sales at 1728 units.**"
   ]
  },
  {
   "cell_type": "markdown",
   "id": "c15d51bf",
   "metadata": {},
   "source": [
    "# **BRANCH AND CITY WISE SALES**"
   ]
  },
  {
   "cell_type": "code",
   "execution_count": 12,
   "id": "e8b4f5e6",
   "metadata": {},
   "outputs": [],
   "source": [
    "# Grouping the Walmart data by both 'City' and 'Branch' and calculating the total quantity sold in each city-branch combination\n",
    "branch_and_city_wise_sale= walmart.groupby(['City', 'Branch'])['Quantity'].sum().reset_index()"
   ]
  },
  {
   "cell_type": "code",
   "execution_count": 13,
   "id": "6e3dc76c",
   "metadata": {},
   "outputs": [
    {
     "data": {
      "text/html": [
       "<div>\n",
       "<style scoped>\n",
       "    .dataframe tbody tr th:only-of-type {\n",
       "        vertical-align: middle;\n",
       "    }\n",
       "\n",
       "    .dataframe tbody tr th {\n",
       "        vertical-align: top;\n",
       "    }\n",
       "\n",
       "    .dataframe thead th {\n",
       "        text-align: right;\n",
       "    }\n",
       "</style>\n",
       "<table border=\"1\" class=\"dataframe\">\n",
       "  <thead>\n",
       "    <tr style=\"text-align: right;\">\n",
       "      <th></th>\n",
       "      <th>City</th>\n",
       "      <th>Branch</th>\n",
       "      <th>Quantity</th>\n",
       "    </tr>\n",
       "  </thead>\n",
       "  <tbody>\n",
       "    <tr>\n",
       "      <th>0</th>\n",
       "      <td>Mandalay</td>\n",
       "      <td>A</td>\n",
       "      <td>637</td>\n",
       "    </tr>\n",
       "    <tr>\n",
       "      <th>1</th>\n",
       "      <td>Mandalay</td>\n",
       "      <td>B</td>\n",
       "      <td>664</td>\n",
       "    </tr>\n",
       "    <tr>\n",
       "      <th>2</th>\n",
       "      <td>Mandalay</td>\n",
       "      <td>C</td>\n",
       "      <td>519</td>\n",
       "    </tr>\n",
       "    <tr>\n",
       "      <th>3</th>\n",
       "      <td>Naypyitaw</td>\n",
       "      <td>A</td>\n",
       "      <td>648</td>\n",
       "    </tr>\n",
       "    <tr>\n",
       "      <th>4</th>\n",
       "      <td>Naypyitaw</td>\n",
       "      <td>B</td>\n",
       "      <td>604</td>\n",
       "    </tr>\n",
       "    <tr>\n",
       "      <th>5</th>\n",
       "      <td>Naypyitaw</td>\n",
       "      <td>C</td>\n",
       "      <td>579</td>\n",
       "    </tr>\n",
       "    <tr>\n",
       "      <th>6</th>\n",
       "      <td>Yangon</td>\n",
       "      <td>A</td>\n",
       "      <td>598</td>\n",
       "    </tr>\n",
       "    <tr>\n",
       "      <th>7</th>\n",
       "      <td>Yangon</td>\n",
       "      <td>B</td>\n",
       "      <td>631</td>\n",
       "    </tr>\n",
       "    <tr>\n",
       "      <th>8</th>\n",
       "      <td>Yangon</td>\n",
       "      <td>C</td>\n",
       "      <td>630</td>\n",
       "    </tr>\n",
       "  </tbody>\n",
       "</table>\n",
       "</div>"
      ],
      "text/plain": [
       "        City Branch  Quantity\n",
       "0   Mandalay      A       637\n",
       "1   Mandalay      B       664\n",
       "2   Mandalay      C       519\n",
       "3  Naypyitaw      A       648\n",
       "4  Naypyitaw      B       604\n",
       "5  Naypyitaw      C       579\n",
       "6     Yangon      A       598\n",
       "7     Yangon      B       631\n",
       "8     Yangon      C       630"
      ]
     },
     "execution_count": 13,
     "metadata": {},
     "output_type": "execute_result"
    }
   ],
   "source": [
    "# Displaying the DataFrame branch_and_city_wise_sale\n",
    "branch_and_city_wise_sale"
   ]
  },
  {
   "cell_type": "code",
   "execution_count": 14,
   "id": "f5ff0400",
   "metadata": {},
   "outputs": [
    {
     "data": {
      "image/png": "[encoded data removed]",
      "text/plain": [
       "<Figure size 600x500 with 1 Axes>"
      ]
     },
     "metadata": {},
     "output_type": "display_data"
    }
   ],
   "source": [
    "# Creating the bar plot using matplotlib\n",
    "plt.figure(figsize=(6, 5))\n",
    "sns.barplot(x='City', y='Quantity', hue='Branch', data=branch_and_city_wise_sale)\n",
    "plt.title('Branch-wise Sales by City')\n",
    "plt.xlabel('City')\n",
    "plt.ylabel('Total Sales')\n",
    "plt.xticks(rotation=45) \n",
    "plt.legend(title='Branch', fontsize='small')\n",
    "plt.tight_layout()\n",
    "plt.show()"
   ]
  },
  {
   "cell_type": "markdown",
   "id": "38be1557",
   "metadata": {},
   "source": [
    "**Branch B generally has the highest sales in Mandalay and Yangon, while branch A leads in Naypyitaw.**"
   ]
  },
  {
   "cell_type": "markdown",
   "id": "85d60e70",
   "metadata": {},
   "source": [
    "# **CITY WISE REVENUE**"
   ]
  },
  {
   "cell_type": "code",
   "execution_count": 15,
   "id": "6cd4ea57",
   "metadata": {},
   "outputs": [],
   "source": [
    "# Calculating the total revenue.\n",
    "walmart['Total Revenue'] = walmart['Unit price'] * walmart['Quantity']"
   ]
  },
  {
   "cell_type": "code",
   "execution_count": 16,
   "id": "658aad4a",
   "metadata": {},
   "outputs": [],
   "source": [
    "# Group the data by 'City' and sum up the total revenue for each city\n",
    "city_wise_revenue = walmart.groupby('City')['Total Revenue'].sum().reset_index()"
   ]
  },
  {
   "cell_type": "code",
   "execution_count": 17,
   "id": "27006eed",
   "metadata": {},
   "outputs": [
    {
     "data": {
      "text/html": [
       "<div>\n",
       "<style scoped>\n",
       "    .dataframe tbody tr th:only-of-type {\n",
       "        vertical-align: middle;\n",
       "    }\n",
       "\n",
       "    .dataframe tbody tr th {\n",
       "        vertical-align: top;\n",
       "    }\n",
       "\n",
       "    .dataframe thead th {\n",
       "        text-align: right;\n",
       "    }\n",
       "</style>\n",
       "<table border=\"1\" class=\"dataframe\">\n",
       "  <thead>\n",
       "    <tr style=\"text-align: right;\">\n",
       "      <th></th>\n",
       "      <th>City</th>\n",
       "      <th>Total Revenue</th>\n",
       "    </tr>\n",
       "  </thead>\n",
       "  <tbody>\n",
       "    <tr>\n",
       "      <th>0</th>\n",
       "      <td>Mandalay</td>\n",
       "      <td>101140.64</td>\n",
       "    </tr>\n",
       "    <tr>\n",
       "      <th>1</th>\n",
       "      <td>Naypyitaw</td>\n",
       "      <td>105303.53</td>\n",
       "    </tr>\n",
       "    <tr>\n",
       "      <th>2</th>\n",
       "      <td>Yangon</td>\n",
       "      <td>101143.21</td>\n",
       "    </tr>\n",
       "  </tbody>\n",
       "</table>\n",
       "</div>"
      ],
      "text/plain": [
       "        City  Total Revenue\n",
       "0   Mandalay      101140.64\n",
       "1  Naypyitaw      105303.53\n",
       "2     Yangon      101143.21"
      ]
     },
     "execution_count": 17,
     "metadata": {},
     "output_type": "execute_result"
    }
   ],
   "source": [
    "# Display the city-wise revenue\n",
    "city_wise_revenue"
   ]
  },
  {
   "cell_type": "code",
   "execution_count": 33,
   "id": "c71f7469",
   "metadata": {},
   "outputs": [
    {
     "data": {
      "image/png": "[encoded data removed]",
      "text/plain": [
       "<Figure size 400x500 with 1 Axes>"
      ]
     },
     "metadata": {},
     "output_type": "display_data"
    }
   ],
   "source": [
    "# Create the bar plot using matplotlib\n",
    "plt.figure(figsize=(4,5))\n",
    "plt.bar(city_wise_revenue['City'], city_wise_revenue['Total Revenue'])\n",
    "plt.title('City-wise Revenue')\n",
    "plt.xlabel('City')\n",
    "plt.ylabel('Total Revenue')\n",
    "plt.tight_layout()\n",
    "plt.show()\n"
   ]
  },
  {
   "cell_type": "markdown",
   "id": "c62d3278",
   "metadata": {},
   "source": [
    "**Naypyitaw leads with the highest total revenue, followed closely by Mandalay, and Yangon.**"
   ]
  },
  {
   "cell_type": "markdown",
   "id": "b7a397df",
   "metadata": {},
   "source": [
    "# **BRANCH WISE REVENUE**"
   ]
  },
  {
   "cell_type": "code",
   "execution_count": 19,
   "id": "3c4489e6",
   "metadata": {},
   "outputs": [
    {
     "data": {
      "text/html": [
       "<div>\n",
       "<style scoped>\n",
       "    .dataframe tbody tr th:only-of-type {\n",
       "        vertical-align: middle;\n",
       "    }\n",
       "\n",
       "    .dataframe tbody tr th {\n",
       "        vertical-align: top;\n",
       "    }\n",
       "\n",
       "    .dataframe thead th {\n",
       "        text-align: right;\n",
       "    }\n",
       "</style>\n",
       "<table border=\"1\" class=\"dataframe\">\n",
       "  <thead>\n",
       "    <tr style=\"text-align: right;\">\n",
       "      <th></th>\n",
       "      <th>Branch</th>\n",
       "      <th>Total Revenue</th>\n",
       "    </tr>\n",
       "  </thead>\n",
       "  <tbody>\n",
       "    <tr>\n",
       "      <th>0</th>\n",
       "      <td>A</td>\n",
       "      <td>103763.00</td>\n",
       "    </tr>\n",
       "    <tr>\n",
       "      <th>1</th>\n",
       "      <td>B</td>\n",
       "      <td>107567.19</td>\n",
       "    </tr>\n",
       "    <tr>\n",
       "      <th>2</th>\n",
       "      <td>C</td>\n",
       "      <td>96257.19</td>\n",
       "    </tr>\n",
       "  </tbody>\n",
       "</table>\n",
       "</div>"
      ],
      "text/plain": [
       "  Branch  Total Revenue\n",
       "0      A      103763.00\n",
       "1      B      107567.19\n",
       "2      C       96257.19"
      ]
     },
     "execution_count": 19,
     "metadata": {},
     "output_type": "execute_result"
    }
   ],
   "source": [
    "# Calculating the total revenue for each branch\n",
    "branch_wise_revenue = walmart.groupby('Branch')['Total Revenue'].sum().reset_index()\n",
    "# Displaying the branch wise revenue\n",
    "branch_wise_revenue"
   ]
  },
  {
   "cell_type": "code",
   "execution_count": 20,
   "id": "c7f9472a",
   "metadata": {},
   "outputs": [
    {
     "data": {
      "image/png": "[encoded data removed]",
      "text/plain": [
       "<Figure size 400x500 with 1 Axes>"
      ]
     },
     "metadata": {},
     "output_type": "display_data"
    }
   ],
   "source": [
    "# Create the bar plot using Matplotlib\n",
    "plt.figure(figsize=(4,5))\n",
    "plt.bar(branch_wise_revenue['Branch'], branch_wise_revenue['Total Revenue'])\n",
    "plt.title('Branch-wise Revenue')\n",
    "plt.xlabel('Branch')\n",
    "plt.ylabel('Total Revenue')\n",
    "plt.tight_layout()\n",
    "plt.show()\n"
   ]
  },
  {
   "cell_type": "markdown",
   "id": "a74ff8ec",
   "metadata": {},
   "source": [
    "**Branch B has the highest revenue, followed by branch A and branch C.**"
   ]
  },
  {
   "cell_type": "markdown",
   "id": "16b4e984",
   "metadata": {},
   "source": [
    "# **CITY AND BRANCH WISE REVENUE**"
   ]
  },
  {
   "cell_type": "code",
   "execution_count": 21,
   "id": "f83e161a",
   "metadata": {},
   "outputs": [
    {
     "data": {
      "text/html": [
       "<div>\n",
       "<style scoped>\n",
       "    .dataframe tbody tr th:only-of-type {\n",
       "        vertical-align: middle;\n",
       "    }\n",
       "\n",
       "    .dataframe tbody tr th {\n",
       "        vertical-align: top;\n",
       "    }\n",
       "\n",
       "    .dataframe thead th {\n",
       "        text-align: right;\n",
       "    }\n",
       "</style>\n",
       "<table border=\"1\" class=\"dataframe\">\n",
       "  <thead>\n",
       "    <tr style=\"text-align: right;\">\n",
       "      <th></th>\n",
       "      <th>City</th>\n",
       "      <th>Branch</th>\n",
       "      <th>Total Revenue</th>\n",
       "    </tr>\n",
       "  </thead>\n",
       "  <tbody>\n",
       "    <tr>\n",
       "      <th>0</th>\n",
       "      <td>Mandalay</td>\n",
       "      <td>A</td>\n",
       "      <td>34130.09</td>\n",
       "    </tr>\n",
       "    <tr>\n",
       "      <th>1</th>\n",
       "      <td>Mandalay</td>\n",
       "      <td>B</td>\n",
       "      <td>37215.93</td>\n",
       "    </tr>\n",
       "    <tr>\n",
       "      <th>2</th>\n",
       "      <td>Mandalay</td>\n",
       "      <td>C</td>\n",
       "      <td>29794.62</td>\n",
       "    </tr>\n",
       "    <tr>\n",
       "      <th>3</th>\n",
       "      <td>Naypyitaw</td>\n",
       "      <td>A</td>\n",
       "      <td>35985.64</td>\n",
       "    </tr>\n",
       "    <tr>\n",
       "      <th>4</th>\n",
       "      <td>Naypyitaw</td>\n",
       "      <td>B</td>\n",
       "      <td>35157.75</td>\n",
       "    </tr>\n",
       "    <tr>\n",
       "      <th>5</th>\n",
       "      <td>Naypyitaw</td>\n",
       "      <td>C</td>\n",
       "      <td>34160.14</td>\n",
       "    </tr>\n",
       "    <tr>\n",
       "      <th>6</th>\n",
       "      <td>Yangon</td>\n",
       "      <td>A</td>\n",
       "      <td>33647.27</td>\n",
       "    </tr>\n",
       "    <tr>\n",
       "      <th>7</th>\n",
       "      <td>Yangon</td>\n",
       "      <td>B</td>\n",
       "      <td>35193.51</td>\n",
       "    </tr>\n",
       "    <tr>\n",
       "      <th>8</th>\n",
       "      <td>Yangon</td>\n",
       "      <td>C</td>\n",
       "      <td>32302.43</td>\n",
       "    </tr>\n",
       "  </tbody>\n",
       "</table>\n",
       "</div>"
      ],
      "text/plain": [
       "        City Branch  Total Revenue\n",
       "0   Mandalay      A       34130.09\n",
       "1   Mandalay      B       37215.93\n",
       "2   Mandalay      C       29794.62\n",
       "3  Naypyitaw      A       35985.64\n",
       "4  Naypyitaw      B       35157.75\n",
       "5  Naypyitaw      C       34160.14\n",
       "6     Yangon      A       33647.27\n",
       "7     Yangon      B       35193.51\n",
       "8     Yangon      C       32302.43"
      ]
     },
     "execution_count": 21,
     "metadata": {},
     "output_type": "execute_result"
    }
   ],
   "source": [
    "# Grouping the Walmart data by both 'City' and 'Branch' and calculating the total revenue for each city-branch combination\n",
    "branch_and_city_wise_revenue= walmart.groupby(['City', 'Branch'])['Total Revenue'].sum().reset_index()\n",
    "# Displaying the branch and city wise revenue\n",
    "branch_and_city_wise_revenue"
   ]
  },
  {
   "cell_type": "code",
   "execution_count": 22,
   "id": "c295483e",
   "metadata": {},
   "outputs": [
    {
     "data": {
      "image/png": "[encoded data removed]",
      "text/plain": [
       "<Figure size 600x500 with 1 Axes>"
      ]
     },
     "metadata": {},
     "output_type": "display_data"
    }
   ],
   "source": [
    "# Creating the bar plot using matplotlib\n",
    "plt.figure(figsize=(6, 5))\n",
    "sns.barplot(x='City', y='Total Revenue', hue='Branch', data=branch_and_city_wise_revenue)\n",
    "plt.title('Branch-wise Revenue by City')\n",
    "plt.xlabel('City')\n",
    "plt.ylabel('Total Revenue')\n",
    "plt.xticks(rotation=45) \n",
    "plt.legend(title='Branch', fontsize='small')\n",
    "plt.tight_layout()\n",
    "plt.show()\n"
   ]
  },
  {
   "cell_type": "markdown",
   "id": "cc3145de",
   "metadata": {},
   "source": [
    "**Branch B generally leads in revenue across all cities, followed by branch A in Mandalay and Naypyitaw, while in Yangon, branch B leads followed by branch A.**"
   ]
  },
  {
   "cell_type": "markdown",
   "id": "5cca6fdc",
   "metadata": {},
   "source": [
    "# **B. What is the average price of an item sold at each branch of the city**"
   ]
  },
  {
   "cell_type": "code",
   "execution_count": 34,
   "id": "89ec3288",
   "metadata": {},
   "outputs": [],
   "source": [
    "# Grouping the data by both 'City' and 'Branch' and calculating the average price of an item sold\n",
    "average_price_per_branch_city = walmart.groupby(['City', 'Branch'])['Unit price'].mean().reset_index()"
   ]
  },
  {
   "cell_type": "code",
   "execution_count": 25,
   "id": "6ca69f80",
   "metadata": {},
   "outputs": [
    {
     "data": {
      "text/html": [
       "<div>\n",
       "<style scoped>\n",
       "    .dataframe tbody tr th:only-of-type {\n",
       "        vertical-align: middle;\n",
       "    }\n",
       "\n",
       "    .dataframe tbody tr th {\n",
       "        vertical-align: top;\n",
       "    }\n",
       "\n",
       "    .dataframe thead th {\n",
       "        text-align: right;\n",
       "    }\n",
       "</style>\n",
       "<table border=\"1\" class=\"dataframe\">\n",
       "  <thead>\n",
       "    <tr style=\"text-align: right;\">\n",
       "      <th></th>\n",
       "      <th>City</th>\n",
       "      <th>Branch</th>\n",
       "      <th>Unit price</th>\n",
       "    </tr>\n",
       "  </thead>\n",
       "  <tbody>\n",
       "    <tr>\n",
       "      <th>0</th>\n",
       "      <td>Mandalay</td>\n",
       "      <td>A</td>\n",
       "      <td>53.353866</td>\n",
       "    </tr>\n",
       "    <tr>\n",
       "      <th>1</th>\n",
       "      <td>Mandalay</td>\n",
       "      <td>B</td>\n",
       "      <td>56.133305</td>\n",
       "    </tr>\n",
       "    <tr>\n",
       "      <th>2</th>\n",
       "      <td>Mandalay</td>\n",
       "      <td>C</td>\n",
       "      <td>57.958316</td>\n",
       "    </tr>\n",
       "    <tr>\n",
       "      <th>3</th>\n",
       "      <td>Naypyitaw</td>\n",
       "      <td>A</td>\n",
       "      <td>54.123182</td>\n",
       "    </tr>\n",
       "    <tr>\n",
       "      <th>4</th>\n",
       "      <td>Naypyitaw</td>\n",
       "      <td>B</td>\n",
       "      <td>57.785688</td>\n",
       "    </tr>\n",
       "    <tr>\n",
       "      <th>5</th>\n",
       "      <td>Naypyitaw</td>\n",
       "      <td>C</td>\n",
       "      <td>57.941009</td>\n",
       "    </tr>\n",
       "    <tr>\n",
       "      <th>6</th>\n",
       "      <td>Yangon</td>\n",
       "      <td>A</td>\n",
       "      <td>55.639298</td>\n",
       "    </tr>\n",
       "    <tr>\n",
       "      <th>7</th>\n",
       "      <td>Yangon</td>\n",
       "      <td>B</td>\n",
       "      <td>56.011062</td>\n",
       "    </tr>\n",
       "    <tr>\n",
       "      <th>8</th>\n",
       "      <td>Yangon</td>\n",
       "      <td>C</td>\n",
       "      <td>52.684602</td>\n",
       "    </tr>\n",
       "  </tbody>\n",
       "</table>\n",
       "</div>"
      ],
      "text/plain": [
       "        City Branch  Unit price\n",
       "0   Mandalay      A   53.353866\n",
       "1   Mandalay      B   56.133305\n",
       "2   Mandalay      C   57.958316\n",
       "3  Naypyitaw      A   54.123182\n",
       "4  Naypyitaw      B   57.785688\n",
       "5  Naypyitaw      C   57.941009\n",
       "6     Yangon      A   55.639298\n",
       "7     Yangon      B   56.011062\n",
       "8     Yangon      C   52.684602"
      ]
     },
     "execution_count": 25,
     "metadata": {},
     "output_type": "execute_result"
    }
   ],
   "source": [
    "# Displayng average price per branch of the city\n",
    "average_price_per_branch_city"
   ]
  },
  {
   "cell_type": "code",
   "execution_count": 62,
   "id": "e5b463e1",
   "metadata": {},
   "outputs": [
    {
     "data": {
      "image/png": "[encoded data removed]",
      "text/plain": [
       "<Figure size 600x500 with 1 Axes>"
      ]
     },
     "metadata": {},
     "output_type": "display_data"
    }
   ],
   "source": [
    "plt.figure(figsize=(6, 5))\n",
    "sns.barplot(x='City', y='Unit price', hue='Branch', data=average_price_per_branch_city)\n",
    "plt.title('Branch-Wise Average Price By Each City')\n",
    "plt.xlabel('City')\n",
    "plt.ylabel('Total Revenue')\n",
    "plt.legend(title='Branch', fontsize='small')\n",
    "plt.tight_layout()\n",
    "plt.show()\n"
   ]
  },
  {
   "cell_type": "markdown",
   "id": "43fd9dc4",
   "metadata": {},
   "source": [
    "**Branch C in Mandalay has the highest unit price, followed by branch C in Naypyitaw, and branch A in Yangon.**"
   ]
  },
  {
   "cell_type": "markdown",
   "id": "c05067d5",
   "metadata": {},
   "source": [
    "# **C. Analyze the performance of sales and revenue, Month over Month across the Product line, Gender, and Payment Method, and identify the focus areas to get better sales for April 2019.**"
   ]
  },
  {
   "cell_type": "code",
   "execution_count": 27,
   "id": "a0b7174b",
   "metadata": {},
   "outputs": [
    {
     "data": {
      "text/html": [
       "<div>\n",
       "<style scoped>\n",
       "    .dataframe tbody tr th:only-of-type {\n",
       "        vertical-align: middle;\n",
       "    }\n",
       "\n",
       "    .dataframe tbody tr th {\n",
       "        vertical-align: top;\n",
       "    }\n",
       "\n",
       "    .dataframe thead th {\n",
       "        text-align: right;\n",
       "    }\n",
       "</style>\n",
       "<table border=\"1\" class=\"dataframe\">\n",
       "  <thead>\n",
       "    <tr style=\"text-align: right;\">\n",
       "      <th></th>\n",
       "      <th>Invoice ID</th>\n",
       "      <th>Branch</th>\n",
       "      <th>City</th>\n",
       "      <th>Customer type</th>\n",
       "      <th>Gender</th>\n",
       "      <th>Product line</th>\n",
       "      <th>Unit price</th>\n",
       "      <th>Quantity</th>\n",
       "      <th>Date</th>\n",
       "      <th>Time</th>\n",
       "      <th>Payment</th>\n",
       "      <th>Rating</th>\n",
       "      <th>Total Revenue</th>\n",
       "    </tr>\n",
       "  </thead>\n",
       "  <tbody>\n",
       "    <tr>\n",
       "      <th>0</th>\n",
       "      <td>750-67-8428</td>\n",
       "      <td>A</td>\n",
       "      <td>Yangon</td>\n",
       "      <td>Member</td>\n",
       "      <td>Female</td>\n",
       "      <td>Health and beauty</td>\n",
       "      <td>74.69</td>\n",
       "      <td>7</td>\n",
       "      <td>1/5/2019</td>\n",
       "      <td>13:08:00</td>\n",
       "      <td>Ewallet</td>\n",
       "      <td>9.1</td>\n",
       "      <td>522.83</td>\n",
       "    </tr>\n",
       "    <tr>\n",
       "      <th>1</th>\n",
       "      <td>226-31-3081</td>\n",
       "      <td>A</td>\n",
       "      <td>Naypyitaw</td>\n",
       "      <td>Normal</td>\n",
       "      <td>Female</td>\n",
       "      <td>Electronic accessories</td>\n",
       "      <td>15.28</td>\n",
       "      <td>5</td>\n",
       "      <td>3/8/2019</td>\n",
       "      <td>10:29:00</td>\n",
       "      <td>Cash</td>\n",
       "      <td>9.6</td>\n",
       "      <td>76.40</td>\n",
       "    </tr>\n",
       "    <tr>\n",
       "      <th>2</th>\n",
       "      <td>631-41-3108</td>\n",
       "      <td>A</td>\n",
       "      <td>Yangon</td>\n",
       "      <td>Normal</td>\n",
       "      <td>Male</td>\n",
       "      <td>Home and lifestyle</td>\n",
       "      <td>46.33</td>\n",
       "      <td>7</td>\n",
       "      <td>3/3/2019</td>\n",
       "      <td>13:23:00</td>\n",
       "      <td>Credit card</td>\n",
       "      <td>7.4</td>\n",
       "      <td>324.31</td>\n",
       "    </tr>\n",
       "    <tr>\n",
       "      <th>3</th>\n",
       "      <td>123-19-1176</td>\n",
       "      <td>B</td>\n",
       "      <td>Yangon</td>\n",
       "      <td>Member</td>\n",
       "      <td>Male</td>\n",
       "      <td>Health and beauty</td>\n",
       "      <td>58.22</td>\n",
       "      <td>8</td>\n",
       "      <td>1/27/2019</td>\n",
       "      <td>20:33:00</td>\n",
       "      <td>Ewallet</td>\n",
       "      <td>8.4</td>\n",
       "      <td>465.76</td>\n",
       "    </tr>\n",
       "    <tr>\n",
       "      <th>4</th>\n",
       "      <td>373-73-7910</td>\n",
       "      <td>C</td>\n",
       "      <td>Yangon</td>\n",
       "      <td>Normal</td>\n",
       "      <td>Male</td>\n",
       "      <td>Sports and travel</td>\n",
       "      <td>86.31</td>\n",
       "      <td>7</td>\n",
       "      <td>2/8/2019</td>\n",
       "      <td>10:37:00</td>\n",
       "      <td>Ewallet</td>\n",
       "      <td>5.3</td>\n",
       "      <td>604.17</td>\n",
       "    </tr>\n",
       "  </tbody>\n",
       "</table>\n",
       "</div>"
      ],
      "text/plain": [
       "    Invoice ID Branch       City Customer type  Gender  \\\n",
       "0  750-67-8428      A     Yangon        Member  Female   \n",
       "1  226-31-3081      A  Naypyitaw        Normal  Female   \n",
       "2  631-41-3108      A     Yangon        Normal    Male   \n",
       "3  123-19-1176      B     Yangon        Member    Male   \n",
       "4  373-73-7910      C     Yangon        Normal    Male   \n",
       "\n",
       "             Product line  Unit price  Quantity       Date      Time  \\\n",
       "0       Health and beauty       74.69         7   1/5/2019  13:08:00   \n",
       "1  Electronic accessories       15.28         5   3/8/2019  10:29:00   \n",
       "2      Home and lifestyle       46.33         7   3/3/2019  13:23:00   \n",
       "3       Health and beauty       58.22         8  1/27/2019  20:33:00   \n",
       "4       Sports and travel       86.31         7   2/8/2019  10:37:00   \n",
       "\n",
       "       Payment  Rating  Total Revenue  \n",
       "0      Ewallet     9.1         522.83  \n",
       "1         Cash     9.6          76.40  \n",
       "2  Credit card     7.4         324.31  \n",
       "3      Ewallet     8.4         465.76  \n",
       "4      Ewallet     5.3         604.17  "
      ]
     },
     "execution_count": 27,
     "metadata": {},
     "output_type": "execute_result"
    }
   ],
   "source": [
    "walmart.head(5)"
   ]
  },
  {
   "cell_type": "code",
   "execution_count": 28,
   "id": "9be166ff",
   "metadata": {},
   "outputs": [
    {
     "data": {
      "text/plain": [
       "0       January\n",
       "1         March\n",
       "2         March\n",
       "3       January\n",
       "4      February\n",
       "         ...   \n",
       "995     January\n",
       "996       March\n",
       "997    February\n",
       "998    February\n",
       "999    February\n",
       "Name: Month, Length: 1000, dtype: object"
      ]
     },
     "execution_count": 28,
     "metadata": {},
     "output_type": "execute_result"
    }
   ],
   "source": [
    "# Extract Month and year from 'Date' column\n",
    "walmart['Date'] = pd.to_datetime(walmart['Date'])\n",
    "walmart['Month'] = walmart['Date'].dt.strftime('%B')\n",
    "walmart['Month']\n"
   ]
  },
  {
   "cell_type": "markdown",
   "id": "0a2482f3",
   "metadata": {},
   "source": [
    "# **PRODUCT LINE WISE ANALYSIS**"
   ]
  },
  {
   "cell_type": "code",
   "execution_count": 69,
   "id": "cb64e95d",
   "metadata": {},
   "outputs": [
    {
     "data": {
      "text/html": [
       "<div>\n",
       "<style scoped>\n",
       "    .dataframe tbody tr th:only-of-type {\n",
       "        vertical-align: middle;\n",
       "    }\n",
       "\n",
       "    .dataframe tbody tr th {\n",
       "        vertical-align: top;\n",
       "    }\n",
       "\n",
       "    .dataframe thead th {\n",
       "        text-align: right;\n",
       "    }\n",
       "</style>\n",
       "<table border=\"1\" class=\"dataframe\">\n",
       "  <thead>\n",
       "    <tr style=\"text-align: right;\">\n",
       "      <th></th>\n",
       "      <th>Product line</th>\n",
       "      <th>Month</th>\n",
       "      <th>Quantity</th>\n",
       "      <th>Total Revenue</th>\n",
       "    </tr>\n",
       "  </thead>\n",
       "  <tbody>\n",
       "    <tr>\n",
       "      <th>0</th>\n",
       "      <td>Electronic accessories</td>\n",
       "      <td>February</td>\n",
       "      <td>313</td>\n",
       "      <td>16536.10</td>\n",
       "    </tr>\n",
       "    <tr>\n",
       "      <th>1</th>\n",
       "      <td>Electronic accessories</td>\n",
       "      <td>January</td>\n",
       "      <td>333</td>\n",
       "      <td>17934.56</td>\n",
       "    </tr>\n",
       "    <tr>\n",
       "      <th>2</th>\n",
       "      <td>Electronic accessories</td>\n",
       "      <td>March</td>\n",
       "      <td>325</td>\n",
       "      <td>17279.37</td>\n",
       "    </tr>\n",
       "    <tr>\n",
       "      <th>3</th>\n",
       "      <td>Fashion accessories</td>\n",
       "      <td>February</td>\n",
       "      <td>295</td>\n",
       "      <td>18104.63</td>\n",
       "    </tr>\n",
       "    <tr>\n",
       "      <th>4</th>\n",
       "      <td>Fashion accessories</td>\n",
       "      <td>January</td>\n",
       "      <td>336</td>\n",
       "      <td>18423.92</td>\n",
       "    </tr>\n",
       "    <tr>\n",
       "      <th>5</th>\n",
       "      <td>Fashion accessories</td>\n",
       "      <td>March</td>\n",
       "      <td>271</td>\n",
       "      <td>15191.35</td>\n",
       "    </tr>\n",
       "    <tr>\n",
       "      <th>6</th>\n",
       "      <td>Food and beverages</td>\n",
       "      <td>February</td>\n",
       "      <td>349</td>\n",
       "      <td>19047.96</td>\n",
       "    </tr>\n",
       "    <tr>\n",
       "      <th>7</th>\n",
       "      <td>Food and beverages</td>\n",
       "      <td>January</td>\n",
       "      <td>325</td>\n",
       "      <td>18638.60</td>\n",
       "    </tr>\n",
       "    <tr>\n",
       "      <th>8</th>\n",
       "      <td>Food and beverages</td>\n",
       "      <td>March</td>\n",
       "      <td>278</td>\n",
       "      <td>15784.72</td>\n",
       "    </tr>\n",
       "    <tr>\n",
       "      <th>9</th>\n",
       "      <td>Health and beauty</td>\n",
       "      <td>February</td>\n",
       "      <td>266</td>\n",
       "      <td>13906.91</td>\n",
       "    </tr>\n",
       "    <tr>\n",
       "      <th>10</th>\n",
       "      <td>Health and beauty</td>\n",
       "      <td>January</td>\n",
       "      <td>254</td>\n",
       "      <td>15603.02</td>\n",
       "    </tr>\n",
       "    <tr>\n",
       "      <th>11</th>\n",
       "      <td>Health and beauty</td>\n",
       "      <td>March</td>\n",
       "      <td>334</td>\n",
       "      <td>17341.25</td>\n",
       "    </tr>\n",
       "    <tr>\n",
       "      <th>12</th>\n",
       "      <td>Home and lifestyle</td>\n",
       "      <td>February</td>\n",
       "      <td>205</td>\n",
       "      <td>11842.27</td>\n",
       "    </tr>\n",
       "    <tr>\n",
       "      <th>13</th>\n",
       "      <td>Home and lifestyle</td>\n",
       "      <td>January</td>\n",
       "      <td>342</td>\n",
       "      <td>19518.80</td>\n",
       "    </tr>\n",
       "    <tr>\n",
       "      <th>14</th>\n",
       "      <td>Home and lifestyle</td>\n",
       "      <td>March</td>\n",
       "      <td>364</td>\n",
       "      <td>19935.99</td>\n",
       "    </tr>\n",
       "    <tr>\n",
       "      <th>15</th>\n",
       "      <td>Sports and travel</td>\n",
       "      <td>February</td>\n",
       "      <td>226</td>\n",
       "      <td>13152.01</td>\n",
       "    </tr>\n",
       "    <tr>\n",
       "      <th>16</th>\n",
       "      <td>Sports and travel</td>\n",
       "      <td>January</td>\n",
       "      <td>375</td>\n",
       "      <td>20635.26</td>\n",
       "    </tr>\n",
       "    <tr>\n",
       "      <th>17</th>\n",
       "      <td>Sports and travel</td>\n",
       "      <td>March</td>\n",
       "      <td>319</td>\n",
       "      <td>18710.66</td>\n",
       "    </tr>\n",
       "  </tbody>\n",
       "</table>\n",
       "</div>"
      ],
      "text/plain": [
       "              Product line     Month  Quantity  Total Revenue\n",
       "0   Electronic accessories  February       313       16536.10\n",
       "1   Electronic accessories   January       333       17934.56\n",
       "2   Electronic accessories     March       325       17279.37\n",
       "3      Fashion accessories  February       295       18104.63\n",
       "4      Fashion accessories   January       336       18423.92\n",
       "5      Fashion accessories     March       271       15191.35\n",
       "6       Food and beverages  February       349       19047.96\n",
       "7       Food and beverages   January       325       18638.60\n",
       "8       Food and beverages     March       278       15784.72\n",
       "9        Health and beauty  February       266       13906.91\n",
       "10       Health and beauty   January       254       15603.02\n",
       "11       Health and beauty     March       334       17341.25\n",
       "12      Home and lifestyle  February       205       11842.27\n",
       "13      Home and lifestyle   January       342       19518.80\n",
       "14      Home and lifestyle     March       364       19935.99\n",
       "15       Sports and travel  February       226       13152.01\n",
       "16       Sports and travel   January       375       20635.26\n",
       "17       Sports and travel     March       319       18710.66"
      ]
     },
     "execution_count": 69,
     "metadata": {},
     "output_type": "execute_result"
    }
   ],
   "source": [
    "product_line= walmart.groupby(['Product line', 'Month']).agg({'Quantity': 'sum', 'Total Revenue': 'sum'}).reset_index()\n",
    "product_line"
   ]
  },
  {
   "cell_type": "code",
   "execution_count": 67,
   "id": "f0d6a488",
   "metadata": {},
   "outputs": [
    {
     "data": {
      "image/png": "[encoded data removed]",
      "text/plain": [
       "<Figure size 900x500 with 1 Axes>"
      ]
     },
     "metadata": {},
     "output_type": "display_data"
    }
   ],
   "source": [
    "# Creating a bar plot\n",
    "plt.figure(figsize=(9, 5))\n",
    "sns.barplot(data=product_line, x='Month', y='Total Revenue', hue='Product line', errorbar=None)\n",
    "plt.title('Total Revenue by Product Line Every Month')\n",
    "plt.xlabel('Product Line')\n",
    "plt.ylabel('Total Revenue')\n",
    "plt.xticks(rotation=45, ha='right')\n",
    "plt.legend(title='Product line', fontsize='small')\n",
    "plt.legend(['Electronic accessories', 'Fashion accessories','Food and beverages', 'Health and beauty','Home and lifestyle','sports and travel'], frameon=False, loc='upper right')\n",
    "plt.tight_layout()\n",
    "plt.show()\n",
    "\n",
    "\n",
    "\n",
    "\n"
   ]
  },
  {
   "cell_type": "markdown",
   "id": "81e19061",
   "metadata": {},
   "source": [
    "**In January, 375 units of Sports and travel products were sold, generating a total revenue of $20,635.26.**"
   ]
  },
  {
   "cell_type": "markdown",
   "id": "289442bb",
   "metadata": {},
   "source": [
    "# **GENDER WISE ANALYSIS**"
   ]
  },
  {
   "cell_type": "code",
   "execution_count": 38,
   "id": "9c2cfa85",
   "metadata": {},
   "outputs": [],
   "source": [
    "Gender_wise= walmart.groupby(['Gender', 'Month']).agg({'Quantity': 'sum', 'Total Revenue': 'sum'}).reset_index()"
   ]
  },
  {
   "cell_type": "code",
   "execution_count": 39,
   "id": "939ed97a",
   "metadata": {},
   "outputs": [
    {
     "data": {
      "text/html": [
       "<div>\n",
       "<style scoped>\n",
       "    .dataframe tbody tr th:only-of-type {\n",
       "        vertical-align: middle;\n",
       "    }\n",
       "\n",
       "    .dataframe tbody tr th {\n",
       "        vertical-align: top;\n",
       "    }\n",
       "\n",
       "    .dataframe thead th {\n",
       "        text-align: right;\n",
       "    }\n",
       "</style>\n",
       "<table border=\"1\" class=\"dataframe\">\n",
       "  <thead>\n",
       "    <tr style=\"text-align: right;\">\n",
       "      <th></th>\n",
       "      <th>Gender</th>\n",
       "      <th>Month</th>\n",
       "      <th>Quantity</th>\n",
       "      <th>Total Revenue</th>\n",
       "    </tr>\n",
       "  </thead>\n",
       "  <tbody>\n",
       "    <tr>\n",
       "      <th>0</th>\n",
       "      <td>Female</td>\n",
       "      <td>February</td>\n",
       "      <td>951</td>\n",
       "      <td>53652.91</td>\n",
       "    </tr>\n",
       "    <tr>\n",
       "      <th>1</th>\n",
       "      <td>Female</td>\n",
       "      <td>January</td>\n",
       "      <td>1019</td>\n",
       "      <td>56322.84</td>\n",
       "    </tr>\n",
       "    <tr>\n",
       "      <th>2</th>\n",
       "      <td>Female</td>\n",
       "      <td>March</td>\n",
       "      <td>899</td>\n",
       "      <td>49912.75</td>\n",
       "    </tr>\n",
       "    <tr>\n",
       "      <th>3</th>\n",
       "      <td>Male</td>\n",
       "      <td>February</td>\n",
       "      <td>703</td>\n",
       "      <td>38936.97</td>\n",
       "    </tr>\n",
       "    <tr>\n",
       "      <th>4</th>\n",
       "      <td>Male</td>\n",
       "      <td>January</td>\n",
       "      <td>946</td>\n",
       "      <td>54431.32</td>\n",
       "    </tr>\n",
       "    <tr>\n",
       "      <th>5</th>\n",
       "      <td>Male</td>\n",
       "      <td>March</td>\n",
       "      <td>992</td>\n",
       "      <td>54330.59</td>\n",
       "    </tr>\n",
       "  </tbody>\n",
       "</table>\n",
       "</div>"
      ],
      "text/plain": [
       "   Gender     Month  Quantity  Total Revenue\n",
       "0  Female  February       951       53652.91\n",
       "1  Female   January      1019       56322.84\n",
       "2  Female     March       899       49912.75\n",
       "3    Male  February       703       38936.97\n",
       "4    Male   January       946       54431.32\n",
       "5    Male     March       992       54330.59"
      ]
     },
     "execution_count": 39,
     "metadata": {},
     "output_type": "execute_result"
    }
   ],
   "source": [
    "Gender_wise"
   ]
  },
  {
   "cell_type": "code",
   "execution_count": 55,
   "id": "9e865f96",
   "metadata": {},
   "outputs": [
    {
     "data": {
      "image/png": "[encoded data removed]",
      "text/plain": [
       "<Figure size 600x500 with 1 Axes>"
      ]
     },
     "metadata": {},
     "output_type": "display_data"
    }
   ],
   "source": [
    "plt.figure(figsize=(6, 5))\n",
    "sns.barplot(data=Gender_wise, x='Month', y='Total Revenue', hue='Gender', errorbar=None)\n",
    "plt.title('Total Revenue by Gender Every Month')\n",
    "plt.xlabel('Month')\n",
    "plt.ylabel('Total Revenue')\n",
    "plt.xticks(rotation=45, ha='right')\n",
    "plt.legend(['Female','Male'], frameon=False, loc='upper right')\n",
    "plt.tight_layout()\n",
    "plt.show()"
   ]
  },
  {
   "cell_type": "markdown",
   "id": "7318ad12",
   "metadata": {},
   "source": [
    "**The highest total revenue is generated by females in January, with a total revenue of $56,322.84.**"
   ]
  },
  {
   "cell_type": "markdown",
   "id": "92bb6689",
   "metadata": {},
   "source": [
    "# **PAYMENT METHOD WISE ANALYSIS**"
   ]
  },
  {
   "cell_type": "code",
   "execution_count": 41,
   "id": "d2ea4d79",
   "metadata": {},
   "outputs": [],
   "source": [
    "Payment_method= walmart.groupby(['Payment', 'Month']).agg({'Quantity': 'sum', 'Total Revenue': 'sum'}).reset_index()"
   ]
  },
  {
   "cell_type": "code",
   "execution_count": 42,
   "id": "e8552810",
   "metadata": {},
   "outputs": [
    {
     "data": {
      "text/html": [
       "<div>\n",
       "<style scoped>\n",
       "    .dataframe tbody tr th:only-of-type {\n",
       "        vertical-align: middle;\n",
       "    }\n",
       "\n",
       "    .dataframe tbody tr th {\n",
       "        vertical-align: top;\n",
       "    }\n",
       "\n",
       "    .dataframe thead th {\n",
       "        text-align: right;\n",
       "    }\n",
       "</style>\n",
       "<table border=\"1\" class=\"dataframe\">\n",
       "  <thead>\n",
       "    <tr style=\"text-align: right;\">\n",
       "      <th></th>\n",
       "      <th>Payment</th>\n",
       "      <th>Month</th>\n",
       "      <th>Quantity</th>\n",
       "      <th>Total Revenue</th>\n",
       "    </tr>\n",
       "  </thead>\n",
       "  <tbody>\n",
       "    <tr>\n",
       "      <th>0</th>\n",
       "      <td>Cash</td>\n",
       "      <td>February</td>\n",
       "      <td>596</td>\n",
       "      <td>34044.13</td>\n",
       "    </tr>\n",
       "    <tr>\n",
       "      <th>1</th>\n",
       "      <td>Cash</td>\n",
       "      <td>January</td>\n",
       "      <td>708</td>\n",
       "      <td>39781.03</td>\n",
       "    </tr>\n",
       "    <tr>\n",
       "      <th>2</th>\n",
       "      <td>Cash</td>\n",
       "      <td>March</td>\n",
       "      <td>592</td>\n",
       "      <td>33038.24</td>\n",
       "    </tr>\n",
       "    <tr>\n",
       "      <th>3</th>\n",
       "      <td>Credit card</td>\n",
       "      <td>February</td>\n",
       "      <td>505</td>\n",
       "      <td>29866.69</td>\n",
       "    </tr>\n",
       "    <tr>\n",
       "      <th>4</th>\n",
       "      <td>Credit card</td>\n",
       "      <td>January</td>\n",
       "      <td>622</td>\n",
       "      <td>36425.31</td>\n",
       "    </tr>\n",
       "    <tr>\n",
       "      <th>5</th>\n",
       "      <td>Credit card</td>\n",
       "      <td>March</td>\n",
       "      <td>595</td>\n",
       "      <td>29676.64</td>\n",
       "    </tr>\n",
       "    <tr>\n",
       "      <th>6</th>\n",
       "      <td>Ewallet</td>\n",
       "      <td>February</td>\n",
       "      <td>553</td>\n",
       "      <td>28679.06</td>\n",
       "    </tr>\n",
       "    <tr>\n",
       "      <th>7</th>\n",
       "      <td>Ewallet</td>\n",
       "      <td>January</td>\n",
       "      <td>635</td>\n",
       "      <td>34547.82</td>\n",
       "    </tr>\n",
       "    <tr>\n",
       "      <th>8</th>\n",
       "      <td>Ewallet</td>\n",
       "      <td>March</td>\n",
       "      <td>704</td>\n",
       "      <td>41528.46</td>\n",
       "    </tr>\n",
       "  </tbody>\n",
       "</table>\n",
       "</div>"
      ],
      "text/plain": [
       "       Payment     Month  Quantity  Total Revenue\n",
       "0         Cash  February       596       34044.13\n",
       "1         Cash   January       708       39781.03\n",
       "2         Cash     March       592       33038.24\n",
       "3  Credit card  February       505       29866.69\n",
       "4  Credit card   January       622       36425.31\n",
       "5  Credit card     March       595       29676.64\n",
       "6      Ewallet  February       553       28679.06\n",
       "7      Ewallet   January       635       34547.82\n",
       "8      Ewallet     March       704       41528.46"
      ]
     },
     "execution_count": 42,
     "metadata": {},
     "output_type": "execute_result"
    }
   ],
   "source": [
    "Payment_method"
   ]
  },
  {
   "cell_type": "code",
   "execution_count": 56,
   "id": "b0b95dc7",
   "metadata": {},
   "outputs": [
    {
     "data": {
      "image/png": "[encoded data removed]",
      "text/plain": [
       "<Figure size 600x500 with 1 Axes>"
      ]
     },
     "metadata": {},
     "output_type": "display_data"
    }
   ],
   "source": [
    "plt.figure(figsize=(6, 5))\n",
    "sns.barplot(data=Payment_method, x='Month', y='Total Revenue', hue='Payment', errorbar=None)\n",
    "plt.title('Total Revenue by Payment Method Every Month')\n",
    "plt.xlabel('Month')\n",
    "plt.ylabel('Total Revenue')\n",
    "plt.xticks(rotation=45, ha='right')\n",
    "plt.legend(['Cash','Credit Card','Ewallet'], frameon=False, loc='upper right')\n",
    "plt.tight_layout()\n",
    "plt.show()"
   ]
  },
  {
   "cell_type": "markdown",
   "id": "a5bd9138",
   "metadata": {},
   "source": [
    "**The highest total revenue is generated through Ewallet payments in March, totaling $41,528.46.**"
   ]
  },
  {
   "cell_type": "markdown",
   "id": "889dc61d",
   "metadata": {},
   "source": [
    "**The lowest total revenue is generated through Credit card payments in February, totaling $29,866.69.**"
   ]
  },
  {
   "cell_type": "markdown",
   "id": "a7a009ea",
   "metadata": {},
   "source": [
    "# FOCUS AREAS TO IMPROVE SALES FOR APRIL 2019\n"
   ]
  },
  {
   "cell_type": "markdown",
   "id": "82e68585",
   "metadata": {},
   "source": [
    "**FASHION ACCESSORIES AND FOOD & BEVERAGES:**\n",
    "Focus on marketing strategies or promotions to boost sales in April.\n",
    "\n",
    "\n",
    "**MALE CUSTOMERS:**\n",
    "Implement targeted marketing campaigns to attract male customers in April.\n",
    "\n",
    "\n",
    "**CASH AND CREDIT CARD PAYMENTS:**\n",
    "Consider offering discounts or incentives for customers using these payment methods to increase sales in April.\n",
    "\n",
    "\n",
    "\n",
    "\n"
   ]
  },
  {
   "cell_type": "raw",
   "id": "47ca8d45",
   "metadata": {},
   "source": [
    "\n",
    "\n",
    "\n",
    "\n",
    "\n",
    "\n",
    "\n",
    "\n",
    "\n",
    "\n"
   ]
  },
  {
   "cell_type": "markdown",
   "id": "970a50ff",
   "metadata": {},
   "source": [
    "# 2. APP EXPLORATION: \n",
    "\n",
    "\n",
    " **Explore the features and user experience of the Jar app. Identify two aspects that\n",
    " you think could be significantly improved and explain your reasoning behind each\n",
    " suggestion.**"
   ]
  },
  {
   "cell_type": "markdown",
   "id": "e3eb011c",
   "metadata": {},
   "source": [
    "**LIMITED INVESTMENT OPTIONS:**\n",
    "Adding more investment choices to the Jar app would make it more attractive and useful for users. Right now, the app mainly lets you invest in digital gold, which is a cool idea. But if it also offered things like mutual funds, stocks, or bonds, more people might be interested.\n",
    "\n",
    "\n",
    "\n",
    "\n",
    "**JAR PRIORITIZES TRANSACTIONS, BUT USERS NEED EDUCATION!**\n",
    "**Include resources like:**\n",
    "- Investment tutorials: Explain key concepts, risks, and strategies.\n",
    "- Interactive risk calculators: Help users assess their risk tolerance.\n",
    "- Goal-setting guides: Assist users in defining financial goals and choosing investments."
   ]
  },
  {
   "cell_type": "markdown",
   "id": "7a62cb8f",
   "metadata": {},
   "source": [
    "# 3. PRODUCT OPTIMIZATION: \n",
    "**The Jar app has an engagement feature called 'Spin to Win'.\n",
    "Right now, if 100 people come to the app each day, only 23 of them try out this\n",
    "spinning game. But, we know that people who spin are more likely to retain on the\n",
    "app and do transactions.\n",
    "Now, we want to get more people to play the game. So, the question is, how can we\n",
    "make sure that at least 50 people out of every 100 who visit the app each day will\n",
    "play 'Spin to Win'? What can we do to get more people interested in spinning the\n",
    "wheel?**"
   ]
  },
  {
   "cell_type": "markdown",
   "id": "3d276608",
   "metadata": {},
   "source": [
    "**INCENTIVES AND REWARDS:**\n",
    "1. Offer discounts, coupons, exclusive offers, or virtual currency.\n",
    "2. Encourage more users to engage with the game.\n",
    "\n",
    "**GAMIFICATION ELEMENTS:**\n",
    "1. Enhance visuals, sound effects, and animations.\n",
    "2. Make the spinning experience enjoyable and interactive."
   ]
  },
  {
   "cell_type": "code",
   "execution_count": null,
   "id": "22b338fd",
   "metadata": {},
   "outputs": [],
   "source": []
  }
 ],
 "metadata": {
  "kernelspec": {
   "display_name": "Python 3 (ipykernel)",
   "language": "python",
   "name": "python3"
  },
  "language_info": {
   "codemirror_mode": {
    "name": "ipython",
    "version": 3
   },
   "file_extension": ".py",
   "mimetype": "text/x-python",
   "name": "python",
   "nbconvert_exporter": "python",
   "pygments_lexer": "ipython3",
   "version": "3.11.5"
  }
 },
 "nbformat": 4,
 "nbformat_minor": 5
}
